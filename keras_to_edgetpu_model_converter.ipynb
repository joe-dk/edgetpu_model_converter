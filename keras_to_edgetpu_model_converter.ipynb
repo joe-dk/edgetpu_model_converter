{
  "nbformat": 4,
  "nbformat_minor": 0,
  "metadata": {
    "colab": {
      "name": "keras_to_edgetpu_model_converter.ipynb",
      "version": "0.3.2",
      "provenance": [],
      "collapsed_sections": [],
      "include_colab_link": true
    },
    "kernelspec": {
      "name": "python3",
      "display_name": "Python 3"
    },
    "accelerator": "GPU"
  },
  "cells": [
    {
      "cell_type": "markdown",
      "metadata": {
        "id": "view-in-github",
        "colab_type": "text"
      },
      "source": [
        "<a href=\"https://colab.research.google.com/github/seeouy/edgetpu_model_converter/blob/master/keras_to_edgetpu_model_converter.ipynb\" target=\"_parent\"><img src=\"https://colab.research.google.com/assets/colab-badge.svg\" alt=\"Open In Colab\"/></a>"
      ]
    },
    {
      "cell_type": "markdown",
      "metadata": {
        "id": "pRYj6MG_JocJ",
        "colab_type": "text"
      },
      "source": [
        "# セットアップ"
      ]
    },
    {
      "cell_type": "markdown",
      "metadata": {
        "id": "G910-u_YJrKY",
        "colab_type": "text"
      },
      "source": [
        "既存のtensorflowをアンインストールして、tensorflow2.0をインストールしなおします。\n",
        "\n",
        "※ランタイムのタイプを「GPU」に設定してください。"
      ]
    },
    {
      "cell_type": "code",
      "metadata": {
        "id": "iTRfhVb2JpeB",
        "colab_type": "code",
        "colab": {
          "base_uri": "https://localhost:8080/",
          "height": 479
        },
        "outputId": "579e14ec-5da3-478d-ac57-e48c1638da41"
      },
      "source": [
        "! pip uninstall -y tensorflow\n",
        "! pip uninstall -y tensorflow-gpu\n",
        "# GPU搭載の環境\n",
        "! pip install tensorflow-gpu==2.0-beta1"
      ],
      "execution_count": 1,
      "outputs": [
        {
          "output_type": "stream",
          "text": [
            "\u001b[33mWARNING: Skipping tensorflow as it is not installed.\u001b[0m\n",
            "Uninstalling tensorflow-gpu-2.0.0b1:\n",
            "  Successfully uninstalled tensorflow-gpu-2.0.0b1\n",
            "Collecting tensorflow-gpu==2.0-beta1\n",
            "  Using cached https://files.pythonhosted.org/packages/2b/53/e18c5e7a2263d3581a979645a185804782e59b8e13f42b9c3c3cfb5bb503/tensorflow_gpu-2.0.0b1-cp36-cp36m-manylinux1_x86_64.whl\n",
            "Requirement already satisfied: termcolor>=1.1.0 in /usr/local/lib/python3.6/dist-packages (from tensorflow-gpu==2.0-beta1) (1.1.0)\n",
            "Requirement already satisfied: grpcio>=1.8.6 in /usr/local/lib/python3.6/dist-packages (from tensorflow-gpu==2.0-beta1) (1.15.0)\n",
            "Requirement already satisfied: keras-preprocessing>=1.0.5 in /usr/local/lib/python3.6/dist-packages (from tensorflow-gpu==2.0-beta1) (1.1.0)\n",
            "Requirement already satisfied: tb-nightly<1.14.0a20190604,>=1.14.0a20190603 in /usr/local/lib/python3.6/dist-packages (from tensorflow-gpu==2.0-beta1) (1.14.0a20190603)\n",
            "Requirement already satisfied: gast>=0.2.0 in /usr/local/lib/python3.6/dist-packages (from tensorflow-gpu==2.0-beta1) (0.2.2)\n",
            "Requirement already satisfied: absl-py>=0.7.0 in /usr/local/lib/python3.6/dist-packages (from tensorflow-gpu==2.0-beta1) (0.7.1)\n",
            "Requirement already satisfied: keras-applications>=1.0.6 in /usr/local/lib/python3.6/dist-packages (from tensorflow-gpu==2.0-beta1) (1.0.8)\n",
            "Requirement already satisfied: wrapt>=1.11.1 in /usr/local/lib/python3.6/dist-packages (from tensorflow-gpu==2.0-beta1) (1.11.2)\n",
            "Requirement already satisfied: protobuf>=3.6.1 in /usr/local/lib/python3.6/dist-packages (from tensorflow-gpu==2.0-beta1) (3.7.1)\n",
            "Requirement already satisfied: tf-estimator-nightly<1.14.0.dev2019060502,>=1.14.0.dev2019060501 in /usr/local/lib/python3.6/dist-packages (from tensorflow-gpu==2.0-beta1) (1.14.0.dev2019060501)\n",
            "Requirement already satisfied: numpy<2.0,>=1.14.5 in /usr/local/lib/python3.6/dist-packages (from tensorflow-gpu==2.0-beta1) (1.16.4)\n",
            "Requirement already satisfied: six>=1.10.0 in /usr/local/lib/python3.6/dist-packages (from tensorflow-gpu==2.0-beta1) (1.12.0)\n",
            "Requirement already satisfied: astor>=0.6.0 in /usr/local/lib/python3.6/dist-packages (from tensorflow-gpu==2.0-beta1) (0.8.0)\n",
            "Requirement already satisfied: google-pasta>=0.1.6 in /usr/local/lib/python3.6/dist-packages (from tensorflow-gpu==2.0-beta1) (0.1.7)\n",
            "Requirement already satisfied: wheel>=0.26 in /usr/local/lib/python3.6/dist-packages (from tensorflow-gpu==2.0-beta1) (0.33.4)\n",
            "Requirement already satisfied: setuptools>=41.0.0 in /usr/local/lib/python3.6/dist-packages (from tb-nightly<1.14.0a20190604,>=1.14.0a20190603->tensorflow-gpu==2.0-beta1) (41.0.1)\n",
            "Requirement already satisfied: markdown>=2.6.8 in /usr/local/lib/python3.6/dist-packages (from tb-nightly<1.14.0a20190604,>=1.14.0a20190603->tensorflow-gpu==2.0-beta1) (3.1.1)\n",
            "Requirement already satisfied: werkzeug>=0.11.15 in /usr/local/lib/python3.6/dist-packages (from tb-nightly<1.14.0a20190604,>=1.14.0a20190603->tensorflow-gpu==2.0-beta1) (0.15.5)\n",
            "Requirement already satisfied: h5py in /usr/local/lib/python3.6/dist-packages (from keras-applications>=1.0.6->tensorflow-gpu==2.0-beta1) (2.8.0)\n",
            "Installing collected packages: tensorflow-gpu\n",
            "Successfully installed tensorflow-gpu-2.0.0b1\n"
          ],
          "name": "stdout"
        }
      ]
    },
    {
      "cell_type": "markdown",
      "metadata": {
        "id": "PqAVItq9Kxpv",
        "colab_type": "text"
      },
      "source": [
        "kerasモデル(.h5)の作成。\n",
        "\n",
        "すでにトレーニング済みのモデルがあれば、このステップは不要。\n"
      ]
    },
    {
      "cell_type": "code",
      "metadata": {
        "id": "7QtH1hCIKR8L",
        "colab_type": "code",
        "colab": {
          "base_uri": "https://localhost:8080/",
          "height": 632
        },
        "outputId": "2ba8200e-9fd0-462a-92aa-9b82c62c526b"
      },
      "source": [
        "import numpy as np\n",
        "import tensorflow as tf\n",
        "print(f'TensorFlow\\'s version: {tf.__version__}')\n",
        "from tensorflow import keras\n",
        "from tensorflow.keras import Model\n",
        "from tensorflow.keras.datasets  import fashion_mnist\n",
        "from tensorflow.keras.optimizers import SGD\n",
        "\n",
        "from tensorflow.keras.models import Sequential\n",
        "from tensorflow.keras.layers import Dense, Dropout, Flatten, GlobalAveragePooling2D\n",
        "from tensorflow.keras.layers import Conv2D, MaxPooling2D\n",
        "from tensorflow.keras import backend as K\n",
        "\n",
        "batch_size = 128\n",
        "num_classes = 10\n",
        "epochs = 12\n",
        "\n",
        "# input image dimensions\n",
        "img_rows, img_cols = 28, 28\n",
        "\n",
        "# the data, shuffled and split between train and test sets\n",
        "(x_train, y_train), (x_test, y_test) = fashion_mnist.load_data()\n",
        "\n",
        "if K.image_data_format() == 'channels_first':\n",
        "    x_train = x_train.reshape(x_train.shape[0], 1, img_rows, img_cols)\n",
        "    x_test = x_test.reshape(x_test.shape[0], 1, img_rows, img_cols)\n",
        "    input_shape = (1, img_rows, img_cols)\n",
        "else:\n",
        "    x_train = x_train.reshape(x_train.shape[0], img_rows, img_cols, 1)\n",
        "    x_test = x_test.reshape(x_test.shape[0], img_rows, img_cols, 1)\n",
        "    input_shape = (img_rows, img_cols, 1)\n",
        "\n",
        "x_train = x_train.astype(np.float32)\n",
        "x_test = x_test.astype(np.float32)\n",
        "x_train = x_train / 255.0\n",
        "x_test = x_test / 255.0\n",
        "\n",
        "print('x_train shape:', x_train.shape)\n",
        "print(x_train.shape[0], 'train samples')\n",
        "print(x_test.shape[0], 'test samples')\n",
        "\n",
        "# train_images = train_images[:, :, :, np.newaxis].astype(np.float32)\n",
        "# test_images = test_images[:, :, :, np.newaxis].astype(np.float32)\n",
        "\n",
        "# train_images = train_images[:, :, :, np.newaxis].astype(np.float32)\n",
        "\n",
        "# convert class vectors to binary class matrices\n",
        "y_train = keras.utils.to_categorical(y_train, num_classes)\n",
        "y_test = keras.utils.to_categorical(y_test, num_classes)\n",
        "\n",
        "model = Sequential()\n",
        "model.add(Conv2D(32, kernel_size=(3, 3),\n",
        "                 activation='relu',\n",
        "                 input_shape=input_shape))\n",
        "model.add(Conv2D(64, (3, 3), activation='relu'))\n",
        "model.add(MaxPooling2D(pool_size=(2, 2)))\n",
        "model.add(Dropout(0.25))\n",
        "model.add(Flatten())\n",
        "model.add(Dense(128, activation='relu'))\n",
        "model.add(Dropout(0.5))\n",
        "model.add(Dense(num_classes, activation='softmax'))\n",
        "\n",
        "model.compile(loss=keras.losses.categorical_crossentropy,\n",
        "              optimizer=keras.optimizers.Adadelta(),\n",
        "              metrics=['accuracy'])\n",
        "\n",
        "model.fit(x_train, y_train,\n",
        "          batch_size=batch_size,\n",
        "          epochs=epochs,\n",
        "          verbose=1,\n",
        "          validation_data=(x_test, y_test))\n",
        "score = model.evaluate(x_test, y_test, verbose=0)\n",
        "print('Test loss:', score[0])\n",
        "print('Test accuracy:', score[1])\n",
        "\n",
        "# save model\n",
        "model.save(\"model_fashion-mnist_cnn.h5\")"
      ],
      "execution_count": 2,
      "outputs": [
        {
          "output_type": "stream",
          "text": [
            "TensorFlow's version: 2.0.0-beta1\n",
            "x_train shape: (60000, 28, 28, 1)\n",
            "60000 train samples\n",
            "10000 test samples\n"
          ],
          "name": "stdout"
        },
        {
          "output_type": "stream",
          "text": [
            "WARNING: Logging before flag parsing goes to stderr.\n",
            "W0721 15:16:21.991582 139858891495296 deprecation.py:323] From /usr/local/lib/python3.6/dist-packages/tensorflow/python/ops/math_grad.py:1250: add_dispatch_support.<locals>.wrapper (from tensorflow.python.ops.array_ops) is deprecated and will be removed in a future version.\n",
            "Instructions for updating:\n",
            "Use tf.where in 2.0, which has the same broadcast rule as np.where\n"
          ],
          "name": "stderr"
        },
        {
          "output_type": "stream",
          "text": [
            "Train on 60000 samples, validate on 10000 samples\n",
            "Epoch 1/12\n",
            "60000/60000 [==============================] - 10s 160us/sample - loss: 2.2876 - accuracy: 0.1348 - val_loss: 2.2493 - val_accuracy: 0.3060\n",
            "Epoch 2/12\n",
            "60000/60000 [==============================] - 8s 135us/sample - loss: 2.2241 - accuracy: 0.2335 - val_loss: 2.1721 - val_accuracy: 0.3973\n",
            "Epoch 3/12\n",
            "60000/60000 [==============================] - 8s 136us/sample - loss: 2.1403 - accuracy: 0.3209 - val_loss: 2.0685 - val_accuracy: 0.4469\n",
            "Epoch 4/12\n",
            "60000/60000 [==============================] - 8s 135us/sample - loss: 2.0289 - accuracy: 0.3851 - val_loss: 1.9309 - val_accuracy: 0.5345\n",
            "Epoch 5/12\n",
            "60000/60000 [==============================] - 8s 135us/sample - loss: 1.8907 - accuracy: 0.4350 - val_loss: 1.7624 - val_accuracy: 0.5485\n",
            "Epoch 6/12\n",
            "60000/60000 [==============================] - 8s 135us/sample - loss: 1.7381 - accuracy: 0.4696 - val_loss: 1.5838 - val_accuracy: 0.5543\n",
            "Epoch 7/12\n",
            "60000/60000 [==============================] - 8s 135us/sample - loss: 1.5965 - accuracy: 0.4922 - val_loss: 1.4255 - val_accuracy: 0.5778\n",
            "Epoch 8/12\n",
            "60000/60000 [==============================] - 8s 135us/sample - loss: 1.4742 - accuracy: 0.5137 - val_loss: 1.2974 - val_accuracy: 0.5927\n",
            "Epoch 9/12\n",
            "60000/60000 [==============================] - 8s 135us/sample - loss: 1.3841 - accuracy: 0.5268 - val_loss: 1.2023 - val_accuracy: 0.6151\n",
            "Epoch 10/12\n",
            "60000/60000 [==============================] - 8s 135us/sample - loss: 1.3149 - accuracy: 0.5437 - val_loss: 1.1304 - val_accuracy: 0.6280\n",
            "Epoch 11/12\n",
            "60000/60000 [==============================] - 8s 135us/sample - loss: 1.2594 - accuracy: 0.5569 - val_loss: 1.0756 - val_accuracy: 0.6417\n",
            "Epoch 12/12\n",
            "60000/60000 [==============================] - 8s 135us/sample - loss: 1.2075 - accuracy: 0.5750 - val_loss: 1.0306 - val_accuracy: 0.6538\n",
            "Test loss: 1.0306392705917358\n",
            "Test accuracy: 0.6538\n"
          ],
          "name": "stdout"
        }
      ]
    },
    {
      "cell_type": "markdown",
      "metadata": {
        "id": "Bfw_N9TKN7jD",
        "colab_type": "text"
      },
      "source": [
        "keras(tensorflow)モデルをtensorflow-lite形式のモデルに変換。\n",
        "\n",
        "変換対象のモデル名を「model_name」に指定します。"
      ]
    },
    {
      "cell_type": "code",
      "metadata": {
        "id": "GlmM2fbrKbnH",
        "colab_type": "code",
        "colab": {}
      },
      "source": [
        "model_name = \"model_fashion-mnist_cnn.h5\"\n",
        "\n",
        "# 量子化はデータのキャリブレーション用の「representative data set」が必要\n",
        "# ここでは、x_trainの一部(1000）を用いる\n",
        "def representative_dataset_gen():\n",
        "    for i in range(100):\n",
        "        yield [x_train[i: i + 1]]\n",
        "        \n",
        "converter = tf.compat.v1.lite.TFLiteConverter.from_keras_model_file(model_name)\n",
        "converter.representative_dataset = representative_dataset_gen\n",
        "converter.target_spec.supported_ops = [tf.lite.OpsSet.TFLITE_BUILTINS_INT8]\n",
        "converter.inference_input_type = tf.uint8\n",
        "converter.inference_output_type = tf.uint8\n",
        "converter.optimizations = [tf.lite.Optimize.DEFAULT]\n",
        "\n",
        "tflite_model = converter.convert()\n",
        "with open(model_name + '.tflite', 'wb') as o_:\n",
        "    o_.write(tflite_model)"
      ],
      "execution_count": 0,
      "outputs": []
    },
    {
      "cell_type": "markdown",
      "metadata": {
        "id": "s06NnlEmXc3x",
        "colab_type": "text"
      },
      "source": [
        "edgetpuコンパイラのインストール。\n",
        "\n",
        "[インストール方法の参照先](https://coral.withgoogle.com/docs/edgetpu/compiler/)"
      ]
    },
    {
      "cell_type": "code",
      "metadata": {
        "id": "zCAP6Yo4QFL5",
        "colab_type": "code",
        "colab": {
          "base_uri": "https://localhost:8080/",
          "height": 646
        },
        "outputId": "1f579166-0ac0-4789-d4cd-768d7facc585"
      },
      "source": [
        "%%bash\n",
        "\n",
        "echo \"deb https://packages.cloud.google.com/apt coral-edgetpu-stable main\" | sudo tee /etc/apt/sources.list.d/coral-edgetpu.list\n",
        "sudo apt-key adv --keyserver keyserver.ubuntu.com --recv-keys 6A030B21BA07F4FB\n",
        "\n",
        "sudo apt update\n",
        "\n",
        "sudo apt install edgetpu"
      ],
      "execution_count": 4,
      "outputs": [
        {
          "output_type": "stream",
          "text": [
            "deb https://packages.cloud.google.com/apt coral-edgetpu-stable main\n",
            "Executing: /tmp/apt-key-gpghome.8WWNmJzPwH/gpg.1.sh --keyserver keyserver.ubuntu.com --recv-keys 6A030B21BA07F4FB\n",
            "Get:1 http://security.ubuntu.com/ubuntu bionic-security InRelease [88.7 kB]\n",
            "Hit:2 http://archive.ubuntu.com/ubuntu bionic InRelease\n",
            "Hit:3 http://ppa.launchpad.net/graphics-drivers/ppa/ubuntu bionic InRelease\n",
            "Get:4 http://archive.ubuntu.com/ubuntu bionic-updates InRelease [88.7 kB]\n",
            "Hit:5 http://ppa.launchpad.net/marutter/c2d4u3.5/ubuntu bionic InRelease\n",
            "Get:6 http://archive.ubuntu.com/ubuntu bionic-backports InRelease [74.6 kB]\n",
            "Hit:7 https://packages.cloud.google.com/apt coral-edgetpu-stable InRelease\n",
            "Ign:8 https://developer.download.nvidia.com/compute/cuda/repos/ubuntu1804/x86_64  InRelease\n",
            "Hit:9 https://cloud.r-project.org/bin/linux/ubuntu bionic-cran35/ InRelease\n",
            "Ign:10 https://developer.download.nvidia.com/compute/machine-learning/repos/ubuntu1804/x86_64  InRelease\n",
            "Hit:11 https://developer.download.nvidia.com/compute/cuda/repos/ubuntu1804/x86_64  Release\n",
            "Hit:12 https://developer.download.nvidia.com/compute/machine-learning/repos/ubuntu1804/x86_64  Release\n",
            "Fetched 252 kB in 1s (264 kB/s)\n",
            "Reading package lists...\n",
            "Building dependency tree...\n",
            "Reading state information...\n",
            "57 packages can be upgraded. Run 'apt list --upgradable' to see them.\n",
            "Reading package lists...\n",
            "Building dependency tree...\n",
            "Reading state information...\n",
            "edgetpu is already the newest version (10-2).\n",
            "The following package was automatically installed and is no longer required:\n",
            "  libnvidia-common-410\n",
            "Use 'sudo apt autoremove' to remove it.\n",
            "0 upgraded, 0 newly installed, 0 to remove and 57 not upgraded.\n"
          ],
          "name": "stdout"
        },
        {
          "output_type": "stream",
          "text": [
            "Warning: apt-key output should not be parsed (stdout is not a terminal)\n",
            "gpg: key 6A030B21BA07F4FB: \"Google Cloud Packages Automatic Signing Key <gc-team@google.com>\" not changed\n",
            "gpg: Total number processed: 1\n",
            "gpg:              unchanged: 1\n",
            "\n",
            "WARNING: apt does not have a stable CLI interface. Use with caution in scripts.\n",
            "\n",
            "\n",
            "WARNING: apt does not have a stable CLI interface. Use with caution in scripts.\n",
            "\n"
          ],
          "name": "stderr"
        }
      ]
    },
    {
      "cell_type": "markdown",
      "metadata": {
        "id": "RKwNfwzqY_lb",
        "colab_type": "text"
      },
      "source": [
        "tfliteモデルをedtetpuモデルに変換します。\n",
        "\n",
        "※ファイル名を正しく指定しましょう(model_name + \".tflite\")。\n",
        "\n",
        "　出力ファイルは、model_name + \"_edgetpu.tflite\""
      ]
    },
    {
      "cell_type": "code",
      "metadata": {
        "id": "OHNBRTsdXgHk",
        "colab_type": "code",
        "colab": {
          "base_uri": "https://localhost:8080/",
          "height": 425
        },
        "outputId": "b0d79faf-5382-477f-a48d-8203b99b111a"
      },
      "source": [
        "!edgetpu_compiler --show_operations 'model_fashion-mnist_cnn.h5.tflite'"
      ],
      "execution_count": 5,
      "outputs": [
        {
          "output_type": "stream",
          "text": [
            "Edge TPU Compiler version 1.0.249710469\n",
            "INFO: Initialized TensorFlow Lite runtime.\n",
            "\n",
            "Model compiled successfully in 99 ms.\n",
            "\n",
            "Input model: model_fashion-mnist_cnn.h5.tflite\n",
            "Input size: 1.15MiB\n",
            "Output model: model_fashion-mnist_cnn.h5_edgetpu.tflite\n",
            "Output size: 1.21MiB\n",
            "On-chip memory available for caching model parameters: 7.83MiB\n",
            "On-chip memory used for caching model parameters: 30.00KiB\n",
            "Off-chip memory used for streaming uncached model parameters: 1.13MiB\n",
            "Number of Edge TPU subgraphs: 1\n",
            "Total number of operations: 8\n",
            "Operation log: model_fashion-mnist_cnn.h5_edgetpu.log\n",
            "\n",
            "Operator                       Count      Status\n",
            "\n",
            "MAX_POOL_2D                    1          Mapped to Edge TPU\n",
            "QUANTIZE                       2          Mapped to Edge TPU\n",
            "CONV_2D                        1          Mapped to Edge TPU\n",
            "DEPTHWISE_CONV_2D              1          Mapped to Edge TPU\n",
            "SOFTMAX                        1          Mapped to Edge TPU\n",
            "FULLY_CONNECTED                2          Mapped to Edge TPU\n"
          ],
          "name": "stdout"
        }
      ]
    },
    {
      "cell_type": "markdown",
      "metadata": {
        "id": "UsdJoQjuaUK1",
        "colab_type": "text"
      },
      "source": [
        "モデルをローカルに保存。"
      ]
    },
    {
      "cell_type": "code",
      "metadata": {
        "id": "QZYEJfgrZO_s",
        "colab_type": "code",
        "colab": {}
      },
      "source": [
        "from google.colab import files\n",
        "files.download( \"./model_fashion-mnist_cnn.h5.tflite\" ) \n",
        "files.download( \"./model_fashion-mnist_cnn.h5_edgetpu.tflite\" ) "
      ],
      "execution_count": 0,
      "outputs": []
    }
  ]
}